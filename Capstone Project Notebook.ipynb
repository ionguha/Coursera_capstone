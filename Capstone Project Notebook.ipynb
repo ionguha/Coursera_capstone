{
    "cells": [
        {
            "cell_type": "markdown",
            "metadata": {},
            "source": "![Image of Yaktocat](https://spemer.com/img/works/jekyll/github.png)"
        },
        {
            "cell_type": "markdown",
            "metadata": {},
            "source": "# A notebook built for Capstone Project"
        },
        {
            "cell_type": "markdown",
            "metadata": {},
            "source": "### This notebook will be mainly used for a capstone project\n<span style=\"color:blue\">**_i.e. to to create a new repository on my GitHub account and submit a shareable link to it for peer evaluation_**"
        },
        {
            "cell_type": "code",
            "execution_count": 2,
            "metadata": {},
            "outputs": [],
            "source": "# Importing pandas library as pd\nimport pandas as pd"
        },
        {
            "cell_type": "code",
            "execution_count": 3,
            "metadata": {},
            "outputs": [],
            "source": "# Import the Numpy library as np\nimport numpy as np"
        },
        {
            "cell_type": "code",
            "execution_count": 4,
            "metadata": {},
            "outputs": [
                {
                    "name": "stdout",
                    "output_type": "stream",
                    "text": "\u001b[1m Hello Capstone Project Course ! \u001b[0m\n"
                }
            ],
            "source": "# Print the following the statement: Hello Capstone Project Course!\nprint(\"\\033[1m Hello Capstone Project Course ! \\033[0m\")"
        }
    ],
    "metadata": {
        "kernelspec": {
            "display_name": "Python 3.6",
            "language": "python",
            "name": "python3"
        },
        "language_info": {
            "codemirror_mode": {
                "name": "ipython",
                "version": 3
            },
            "file_extension": ".py",
            "mimetype": "text/x-python",
            "name": "python",
            "nbconvert_exporter": "python",
            "pygments_lexer": "ipython3",
            "version": "3.6.9"
        }
    },
    "nbformat": 4,
    "nbformat_minor": 1
}